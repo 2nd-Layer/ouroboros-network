{
 "cells": [
  {
   "cell_type": "markdown",
   "metadata": {},
   "source": [
    "# Introduction to $\\Delta Q$ - working with Quality Attenutation"
   ]
  },
  {
   "cell_type": "markdown",
   "metadata": {},
   "source": [
    "$\\Delta Q$ is an approach to engaging with performance in all stages of a system's lifecyle. It can capture requirements, specify constraints, measure operation and assure performance at both a component and system level."
   ]
  },
  {
   "cell_type": "markdown",
   "metadata": {},
   "source": [
    "## Quality Attenutation "
   ]
  },
  {
   "cell_type": "markdown",
   "metadata": {},
   "source": [
    "Computing things, communicating things takes time (and can sometimes not happen); Quality attenutation is the measure of how far from instantaneous and perfect.\n",
    "\n",
    " - $\\Delta Q$ takes the notion of [probability](https://en.wikipedia.org/wiki/Probability_theory) and extends to incorporate the notion of failure. This has several advantages:\n",
    "   - Much of the basic properties of probability carry over, in particular those concepts that arise from convolution[^seqcomp].\n",
    "   - It fuses two key aspects of performance (and reliablity) into single concept, combining the _continuous_ (e.g. delay) with the _discrete_ (loss, erasure, failure ...). This ensures that they are both thought about and manipulated together as a single logical entity.\n",
    "\n",
    "[^seqcomp]: \n",
    "Convolution, in this context, captures the notion of sequential compositionality.\n",
    "\n",
    "It can be helpful, to get to grips with the concept, to think in terms of packets flowing in a network, however don't forget that this concept is more powerful that that, it can be applied to many aspects of \"systems\" - as it can encompass performance aspects of computation, allow for abstraction to hide details of components and even help model emergent aspects of humans-in-the-loop. \n",
    "   \n",
    "Quality attenutation has some interesting properties: \n",
    "  - it is _conserved_ - if something fails, or a packet is lost, you can't \"un-fail\" or \"un-loose\" - you have to start again or resend. If a delay has occured you can't \"un-delay\" something. Quality attenutation is something you (often) want to minimise.\n",
    "  - it is \"additative\" - so it possible to talk in term of \"a $\\Delta Q$ (quality attenutation) budget\"\n",
    "  - in distributed system context it is often possible to express it terms of a [basis set](https://en.wikipedia.org/wiki/Basis#Mathematics), a bit like [$x, y, z$ co-ordinates](https://en.wikipedia.org/wiki/Standard_basis). This helps inform questions like \"how much longer will something twice as big/complex take\", it is rarely exactly twice the time!\n",
    "  \n",
    "  \n",
    "Quality attenutation is a _privation_ - it is something that you seek to minimise in your system (like cold is the absence of heat, silence the absence of noise). It is an irony that many seek to \"add quality\" to their systems - now you know that what they _really_ seek is the reduction of quality attenutation.  "
   ]
  },
  {
   "cell_type": "markdown",
   "metadata": {},
   "source": [
    "## Outcomes"
   ]
  },
  {
   "cell_type": "markdown",
   "metadata": {},
   "source": [
    " - distributed system performance is more usually discussed in terms of the _system_, e.g. its efficiency, its throughput etc. It is an internal focus.\n",
    " - real world systems are more often judged by the _outcomes_ they enable. This is a external focus. Formulating expectations in terms of $\\Delta Q$ enables the keeping the performance goals under consideration - keeps _performance as a first class citizen_ throughout the SDLC ([System Development Life Cycle](https://en.wikipedia.org/wiki/Systems_development_life_cycle))."
   ]
  },
  {
   "cell_type": "markdown",
   "metadata": {},
   "source": [
    "## Probabilty, Performance and Outcomes"
   ]
  },
  {
   "cell_type": "markdown",
   "metadata": {},
   "source": [
    "How do you measure the performance of an outcome?\n",
    "\n",
    "To observe an outcome need to observe its start and its end.  If you observe[^freq] many instances of such an outcome you can create distribution of the time to complete the outcome. From such distributions you can forumlate the answer to such questions as:\n",
    "\n",
    "[^freq]: Alltough this is expressing this in [frequentist terms](https://en.wikipedia.org/wiki/Frequentist_probability) - which would be appropriate for analysing a running system, it is often more helpful to consider $\\Delta Q$ in [Bayesian terms](https://en.wikipedia.org/wiki/Bayesian_probability), as a probability not a frequency.\n",
    "\n",
    "\n",
    "  - What delay would 50%, 75%, 90% of the outcomes experience?\n",
    "  - What fraction of outcomes would happen in $x$ seconds?\n",
    "  - What is the difference in delay between 10% and 90% of the outcomes?\n",
    "  \n",
    "With $\\Delta Q$ we are admitting the possiblity that not all outcomes will have an observable end. The outcome might fail (the packet lost, the remote system stop working) - sometimes that would be directly observable (e.g. remote system sends an error response) and sometimes not. In general there will be some maximum time, after which, a response - where it to arrive - would make no difference to the usefulness of the outcome. Conceptually you could think of the outcome ocurring after some unbounded time, which fine in the mathematical formulation, but not useful operationally."
   ]
  },
  {
   "cell_type": "code",
   "execution_count": 1,
   "metadata": {},
   "outputs": [],
   "source": [
    "import           DeltaQ.RationalProbabilityDoubleDelay\n",
    "import Shim\n",
    "\n",
    "expression :: DeltaQ\n",
    "expression = perfection `convolve` bottom\n",
    "expression1 = choose 0.5 perfection expression"
   ]
  },
  {
   "cell_type": "code",
   "execution_count": null,
   "metadata": {},
   "outputs": [
    {
     "data": {
      "text/html": [
       "<style>/* Styles used for the Hoogle display in the pager */\n",
       ".hoogle-doc {\n",
       "display: block;\n",
       "padding-bottom: 1.3em;\n",
       "padding-left: 0.4em;\n",
       "}\n",
       ".hoogle-code {\n",
       "display: block;\n",
       "font-family: monospace;\n",
       "white-space: pre;\n",
       "}\n",
       ".hoogle-text {\n",
       "display: block;\n",
       "}\n",
       ".hoogle-name {\n",
       "color: green;\n",
       "font-weight: bold;\n",
       "}\n",
       ".hoogle-head {\n",
       "font-weight: bold;\n",
       "}\n",
       ".hoogle-sub {\n",
       "display: block;\n",
       "margin-left: 0.4em;\n",
       "}\n",
       ".hoogle-package {\n",
       "font-weight: bold;\n",
       "font-style: italic;\n",
       "}\n",
       ".hoogle-module {\n",
       "font-weight: bold;\n",
       "}\n",
       ".hoogle-class {\n",
       "font-weight: bold;\n",
       "}\n",
       ".get-type {\n",
       "color: green;\n",
       "font-weight: bold;\n",
       "font-family: monospace;\n",
       "display: block;\n",
       "white-space: pre-wrap;\n",
       "}\n",
       ".show-type {\n",
       "color: green;\n",
       "font-weight: bold;\n",
       "font-family: monospace;\n",
       "margin-left: 1em;\n",
       "}\n",
       ".mono {\n",
       "font-family: monospace;\n",
       "display: block;\n",
       "}\n",
       ".err-msg {\n",
       "color: red;\n",
       "font-style: italic;\n",
       "font-family: monospace;\n",
       "white-space: pre;\n",
       "display: block;\n",
       "}\n",
       "#unshowable {\n",
       "color: red;\n",
       "font-weight: bold;\n",
       "}\n",
       ".err-msg.in.collapse {\n",
       "padding-top: 0.7em;\n",
       "}\n",
       ".highlight-code {\n",
       "white-space: pre;\n",
       "font-family: monospace;\n",
       "}\n",
       ".suggestion-warning { \n",
       "font-weight: bold;\n",
       "color: rgb(200, 130, 0);\n",
       "}\n",
       ".suggestion-error { \n",
       "font-weight: bold;\n",
       "color: red;\n",
       "}\n",
       ".suggestion-name {\n",
       "font-weight: bold;\n",
       "}\n",
       "</style><div class=\"suggestion-name\" style=\"clear:both;\">Redundant $</div><div class=\"suggestion-row\" style=\"float: left;\"><div class=\"suggestion-warning\">Found:</div><div class=\"highlight-code\" id=\"haskell\">asLaTeX $ expression1</div></div><div class=\"suggestion-row\" style=\"float: left;\"><div class=\"suggestion-warning\">Why Not:</div><div class=\"highlight-code\" id=\"haskell\">asLaTeX expression1</div></div>"
      ],
      "text/plain": [
       "Line 1: Redundant $\n",
       "Found:\n",
       "asLaTeX $ expression1\n",
       "Why not:\n",
       "asLaTeX expression1"
      ]
     },
     "metadata": {},
     "output_type": "display_data"
    },
    {
     "data": {
      "text/latex": [
       "\\[\\emptyset{}\\oplus{}\\bot{}\\]"
      ]
     },
     "metadata": {},
     "output_type": "display_data"
    },
    {
     "data": {
      "text/latex": [
       "\\[\\bot{}\\]"
      ]
     },
     "metadata": {},
     "output_type": "display_data"
    }
   ],
   "source": [
    "import  DeltaQ.Algebra.Simplification\n",
    "\n",
    "asLaTeX expression\n",
    "\n",
    "asLaTeX $ canonicaliseDeltaQ expression\n",
    "\n",
    "\n",
    "asLaTeX $ expression1\n"
   ]
  },
  {
   "cell_type": "markdown",
   "metadata": {},
   "source": [
    "$$ \\mathop{\\leftrightharpoons}^{p}_{q}$$"
   ]
  },
  {
   "cell_type": "markdown",
   "metadata": {},
   "source": [
    "# Additional Materials"
   ]
  },
  {
   "cell_type": "markdown",
   "metadata": {},
   "source": [
    "## $\\Delta Q$ \n",
    "## Treating performance as a first class citizen in distributed system design\n",
    "  - PeNDAR public outputs"
   ]
  },
  {
   "cell_type": "markdown",
   "metadata": {},
   "source": []
  }
 ],
 "metadata": {
  "kernelspec": {
   "display_name": "Haskell - haskell",
   "language": "haskell",
   "name": "ihaskell_haskell"
  },
  "language_info": {
   "codemirror_mode": "ihaskell",
   "file_extension": ".hs",
   "name": "haskell",
   "pygments_lexer": "Haskell",
   "version": "8.4.4"
  }
 },
 "nbformat": 4,
 "nbformat_minor": 2
}
