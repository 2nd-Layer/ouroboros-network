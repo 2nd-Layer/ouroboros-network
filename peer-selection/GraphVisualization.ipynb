{
 "cells": [
  {
   "cell_type": "code",
   "execution_count": 1,
   "metadata": {},
   "outputs": [],
   "source": [
    ":m +IHaskell.Display.Graphviz\n",
    ":m +Data.GraphViz\n",
    ":m +Data.GraphViz.Printing\n",
    ":m +Data.GraphViz.Attributes.Complete\n",
    ":m +Data.Text.Lazy"
   ]
  },
  {
   "cell_type": "code",
   "execution_count": null,
   "metadata": {},
   "outputs": [],
   "source": [
    "showDot :: PrintDot n => DotGraph n -> Graphviz\n",
    "showDot = IHaskell.Display.Graphviz.dot . Data.Text.Lazy.unpack . renderDot . toDot"
   ]
  },
  {
   "cell_type": "markdown",
   "metadata": {},
   "source": [
    "With `showDot`, we can use the IHaskell graphviz backend, which renders SVGs into the notebook, to draw arbitrary explicit dot programs here.\n",
    "\n",
    "In fact, we already have `Algebra.Graph.Labelled.AdjacencyMap.Viz.toGraphvizDot` which takes a `GraphvizParams`, and that allows us to set everything we need."
   ]
  },
  {
   "cell_type": "code",
   "execution_count": null,
   "metadata": {},
   "outputs": [],
   "source": []
  },
  {
   "cell_type": "code",
   "execution_count": null,
   "metadata": {},
   "outputs": [],
   "source": [
    "let rootedAt :: Data.Text.Lazy.Text -> Attributes\n",
    "    rootedAt root = [Layout TwoPi, Root (NodeName root)]\n",
    "    \n",
    "    points :: Attributes\n",
    "    points = "
   ]
  },
  {
   "cell_type": "code",
   "execution_count": null,
   "metadata": {},
   "outputs": [],
   "source": [
    "let \n",
    "\n",
    "    graph_1 :: DotGraph Int\n",
    "    graph_1 = DotGraph\n",
    "      { strictGraph = True\n",
    "      , directedGraph = False\n",
    "      , graphID = Nothing\n",
    "      , graphStatements = DotStmts\n",
    "          { attrStmts = []\n",
    "          , subGraphs = []\n",
    "          , nodeStmts = []\n",
    "          , edgeStmts = []\n",
    "          }\n",
    "      }\n",
    "showDot example_1"
   ]
  },
  {
   "cell_type": "code",
   "execution_count": null,
   "metadata": {},
   "outputs": [],
   "source": []
  }
 ],
 "metadata": {
  "kernelspec": {
   "display_name": "Haskell - haskell",
   "language": "haskell",
   "name": "ihaskell_haskell"
  },
  "language_info": {
   "codemirror_mode": "ihaskell",
   "file_extension": ".hs",
   "name": "haskell",
   "pygments_lexer": "Haskell",
   "version": "8.4.4"
  }
 },
 "nbformat": 4,
 "nbformat_minor": 2
}
